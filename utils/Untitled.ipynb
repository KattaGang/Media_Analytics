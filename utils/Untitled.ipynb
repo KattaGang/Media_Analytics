{
 "cells": [
  {
   "cell_type": "code",
   "execution_count": 1,
   "id": "56297b66",
   "metadata": {},
   "outputs": [
    {
     "name": "stderr",
     "output_type": "stream",
     "text": [
      "2023-01-14 09:30:18.142844: I tensorflow/core/platform/cpu_feature_guard.cc:193] This TensorFlow binary is optimized with oneAPI Deep Neural Network Library (oneDNN) to use the following CPU instructions in performance-critical operations:  AVX2 AVX512F AVX512_VNNI FMA\n",
      "To enable them in other operations, rebuild TensorFlow with the appropriate compiler flags.\n",
      "2023-01-14 09:30:18.235856: I tensorflow/core/util/port.cc:104] oneDNN custom operations are on. You may see slightly different numerical results due to floating-point round-off errors from different computation orders. To turn them off, set the environment variable `TF_ENABLE_ONEDNN_OPTS=0`.\n",
      "2023-01-14 09:30:18.625113: W tensorflow/compiler/xla/stream_executor/platform/default/dso_loader.cc:64] Could not load dynamic library 'libnvinfer.so.7'; dlerror: libnvinfer.so.7: cannot open shared object file: No such file or directory\n",
      "2023-01-14 09:30:18.625153: W tensorflow/compiler/xla/stream_executor/platform/default/dso_loader.cc:64] Could not load dynamic library 'libnvinfer_plugin.so.7'; dlerror: libnvinfer_plugin.so.7: cannot open shared object file: No such file or directory\n",
      "2023-01-14 09:30:18.625157: W tensorflow/compiler/tf2tensorrt/utils/py_utils.cc:38] TF-TRT Warning: Cannot dlopen some TensorRT libraries. If you would like to use Nvidia GPU with TensorRT, please make sure the missing libraries mentioned above are installed properly.\n",
      "2023-01-14 09:30:19.250549: I tensorflow/compiler/xla/stream_executor/cuda/cuda_gpu_executor.cc:981] successful NUMA node read from SysFS had negative value (-1), but there must be at least one NUMA node, so returning NUMA node zero\n",
      "2023-01-14 09:30:19.276720: W tensorflow/compiler/xla/stream_executor/platform/default/dso_loader.cc:64] Could not load dynamic library 'libcudnn.so.8'; dlerror: libcudnn.so.8: cannot open shared object file: No such file or directory\n",
      "2023-01-14 09:30:19.276741: W tensorflow/core/common_runtime/gpu/gpu_device.cc:1934] Cannot dlopen some GPU libraries. Please make sure the missing libraries mentioned above are installed properly if you would like to use GPU. Follow the guide at https://www.tensorflow.org/install/gpu for how to download and setup the required libraries for your platform.\n",
      "Skipping registering GPU devices...\n"
     ]
    },
    {
     "name": "stdout",
     "output_type": "stream",
     "text": [
      "safety cocerns\n",
      "[delayed, snag, effectiveness, safety, injured, security, emergency, technical, issue, safety, cocerns, safety cocerns]\n"
     ]
    }
   ],
   "source": [
    "import spacy\n",
    "from newsapi import NewsApiClient\n",
    "API_KEY = 'd83a0fb9e3104414a3693c6c4fdab735'\n",
    "COMPANY_NAME = 'exxon-mobile'\n",
    "MULTIPLIER = 100\n",
    "\n",
    "nlp = spacy.load('en_core_web_md')\n",
    "\n",
    "RISK_WORDS = ['delayed', 'snag', 'effectiveness', 'safety', 'injured',\n",
    "              'security', 'emergency', 'technical issue', 'safety cocerns']\n",
    "RISK_TOKENS = []\n",
    "\n",
    "\n",
    "def setup():\n",
    "    for risk_word in RISK_WORDS:\n",
    "        doc = nlp(risk_word)\n",
    "        for risk_token in doc:\n",
    "            RISK_TOKENS.append(risk_token)\n",
    "        for risk_token in doc.ents:\n",
    "            print(risk_token)\n",
    "            RISK_TOKENS.append(risk_token)\n",
    "    print(RISK_TOKENS)\n",
    "\n",
    "\n",
    "\n",
    "\n",
    "def get_risk_score_token(token, company_name):\n",
    "    score = 0\n",
    "    for risk_token in RISK_TOKENS:\n",
    "        score = max(score, token.similarity(risk_token))\n",
    "    return int(MULTIPLIER * score)\n",
    "\n",
    "\n",
    "def get_company_score_token(token, company_name):\n",
    "    doc = nlp(company_name)\n",
    "    company_token = doc[0]\n",
    "    score = token.similarity(company_token)\n",
    "    return int(MULTIPLIER * score)\n",
    "\n",
    "def get_company_score_sentence(sentence, company_name):\n",
    "    score = 0\n",
    "    for token in sentence:\n",
    "        score += get_company_score_token(token, company_name)\n",
    "    score /= len(sentence)\n",
    "    return score\n",
    "\n",
    "def get_risk_score_sentence(sentence, company_name):\n",
    "    score = 0\n",
    "    for token in sentence:\n",
    "        score += get_risk_score_token(token, company_name)\n",
    "    score /= len(sentence)\n",
    "    return score\n",
    "\n",
    "\n",
    "def get_score_sentence(sentence, company_name):\n",
    "    company_score = get_company_score_sentence(sentence, company_name)\n",
    "    risk_score = get_risk_score_sentence(sentence, company_name)\n",
    "    return (company_score * risk_score)\n",
    "\n",
    "\n",
    "def get_score_text(text, company_name):\n",
    "    doc = nlp(text)\n",
    "    score = 0\n",
    "    for sentence in doc.sents:\n",
    "        score += get_score_sentence(sentence, company_name)\n",
    "    score /= len(list(doc.sents))\n",
    "    return score\n",
    "setup()"
   ]
  },
  {
   "cell_type": "code",
   "execution_count": 2,
   "id": "e5ba135a",
   "metadata": {},
   "outputs": [],
   "source": [
    "text = '''\n",
    "Microsoft was a fradulent and scheming company. They schemed their way to sell laptops through threat and deceit.\n",
    "'''"
   ]
  },
  {
   "cell_type": "code",
   "execution_count": null,
   "id": "f90bc5d3",
   "metadata": {},
   "outputs": [],
   "source": []
  },
  {
   "cell_type": "code",
   "execution_count": 3,
   "id": "a55fe299",
   "metadata": {},
   "outputs": [
    {
     "name": "stderr",
     "output_type": "stream",
     "text": [
      "/tmp/ipykernel_32381/449194880.py:37: UserWarning: [W008] Evaluating Token.similarity based on empty vectors.\n",
      "  score = token.similarity(company_token)\n",
      "/tmp/ipykernel_32381/449194880.py:30: UserWarning: [W008] Evaluating Token.similarity based on empty vectors.\n",
      "  score = max(score, token.similarity(risk_token))\n"
     ]
    },
    {
     "data": {
      "text/plain": [
       "561.5428811454453"
      ]
     },
     "execution_count": 3,
     "metadata": {},
     "output_type": "execute_result"
    }
   ],
   "source": [
    "get_score_text(text, 'microsoft')"
   ]
  },
  {
   "cell_type": "code",
   "execution_count": null,
   "id": "0f45935e",
   "metadata": {},
   "outputs": [],
   "source": []
  }
 ],
 "metadata": {
  "kernelspec": {
   "display_name": "Python 3 (ipykernel)",
   "language": "python",
   "name": "python3"
  },
  "language_info": {
   "codemirror_mode": {
    "name": "ipython",
    "version": 3
   },
   "file_extension": ".py",
   "mimetype": "text/x-python",
   "name": "python",
   "nbconvert_exporter": "python",
   "pygments_lexer": "ipython3",
   "version": "3.10.6"
  }
 },
 "nbformat": 4,
 "nbformat_minor": 5
}
