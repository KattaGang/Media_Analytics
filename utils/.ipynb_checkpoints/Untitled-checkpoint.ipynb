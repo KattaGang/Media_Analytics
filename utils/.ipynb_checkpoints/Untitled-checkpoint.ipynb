{
 "cells": [
  {
   "cell_type": "code",
   "execution_count": 41,
   "id": "d37a9147",
   "metadata": {},
   "outputs": [
    {
     "name": "stdout",
     "output_type": "stream",
     "text": [
      "safety cocerns\n",
      "[delayed, snag, effectiveness, safety, injured, security, emergency, technical, issue, safety, cocerns, safety cocerns]\n"
     ]
    }
   ],
   "source": [
    "import spacy\n",
    "from newsapi import NewsApiClient\n",
    "API_KEY = 'd83a0fb9e3104414a3693c6c4fdab735'\n",
    "COMPANY_NAME = 'exxon-mobile'\n",
    "MULTIPLIER = 100\n",
    "\n",
    "nlp = spacy.load('en_core_web_md')\n",
    "\n",
    "RISK_WORDS = ['delayed', 'snag', 'effectiveness', 'safety', 'injured',\n",
    "              'security', 'emergency', 'technical issue', 'safety cocerns']\n",
    "RISK_TOKENS = []\n",
    "\n",
    "\n",
    "def setup():\n",
    "    for risk_word in RISK_WORDS:\n",
    "        doc = nlp(risk_word)\n",
    "        for risk_token in doc:\n",
    "            RISK_TOKENS.append(risk_token)\n",
    "        for risk_token in doc.ents:\n",
    "            print(risk_token)\n",
    "            RISK_TOKENS.append(risk_token)\n",
    "    print(RISK_TOKENS)\n",
    "\n",
    "\n",
    "\n",
    "\n",
    "def get_risk_score_token(token, company_name):\n",
    "    score = 0\n",
    "    for risk_token in RISK_TOKENS:\n",
    "        score = max(score, token.similarity(risk_token))\n",
    "    return int(MULTIPLIER * score)\n",
    "\n",
    "\n",
    "def get_company_score_token(token, company_name):\n",
    "    doc = nlp(company_name)\n",
    "    company_token = doc[0]\n",
    "    score = token.similarity(company_token)\n",
    "    return int(MULTIPLIER * score)\n",
    "\n",
    "def get_company_score_sentence(sentence, company_name):\n",
    "    score = 0\n",
    "    for token in sentence:\n",
    "        score += get_company_score_token(token, company_name)\n",
    "    score /= len(sentence)\n",
    "    return score\n",
    "\n",
    "def get_risk_score_sentence(sentence, company_name):\n",
    "    score = 0\n",
    "    for token in sentence:\n",
    "        score += get_risk_score_token(token, company_name)\n",
    "    score /= len(sentence)\n",
    "    return score\n",
    "\n",
    "\n",
    "def get_score_sentence(sentence, company_name):\n",
    "    company_score = get_company_score_sentence(sentence, company_name)\n",
    "    risk_score = get_risk_score_sentence(sentence, company_name)\n",
    "    return (company_score * risk_score)\n",
    "setup()"
   ]
  },
  {
   "cell_type": "code",
   "execution_count": 42,
   "id": "c84ee302",
   "metadata": {},
   "outputs": [],
   "source": [
    "sent = nlp(\"Microsoft is a scamming orgranization\").sents\n",
    "sent = list(sent)[0]"
   ]
  },
  {
   "cell_type": "code",
   "execution_count": 50,
   "id": "6128b1c8",
   "metadata": {},
   "outputs": [
    {
     "name": "stderr",
     "output_type": "stream",
     "text": [
      "/tmp/ipykernel_31547/899602710.py:37: UserWarning: [W008] Evaluating Token.similarity based on empty vectors.\n",
      "  score = token.similarity(company_token)\n",
      "/tmp/ipykernel_31547/899602710.py:30: UserWarning: [W008] Evaluating Token.similarity based on empty vectors.\n",
      "  score = max(score, token.similarity(risk_token))\n"
     ]
    },
    {
     "data": {
      "text/plain": [
       "0.0"
      ]
     },
     "execution_count": 50,
     "metadata": {},
     "output_type": "execute_result"
    }
   ],
   "source": [
    "get_score_sentence(sent, \"chinmay\")"
   ]
  },
  {
   "cell_type": "code",
   "execution_count": null,
   "id": "de4673de",
   "metadata": {},
   "outputs": [],
   "source": []
  }
 ],
 "metadata": {
  "kernelspec": {
   "display_name": "Python 3 (ipykernel)",
   "language": "python",
   "name": "python3"
  },
  "language_info": {
   "codemirror_mode": {
    "name": "ipython",
    "version": 3
   },
   "file_extension": ".py",
   "mimetype": "text/x-python",
   "name": "python",
   "nbconvert_exporter": "python",
   "pygments_lexer": "ipython3",
   "version": "3.10.6"
  }
 },
 "nbformat": 4,
 "nbformat_minor": 5
}
